{
 "cells": [
  {
   "cell_type": "code",
   "execution_count": 1,
   "metadata": {},
   "outputs": [
    {
     "name": "stderr",
     "output_type": "stream",
     "text": [
      "2023-12-15 12:44:59.020819: I tensorflow/core/util/util.cc:169] oneDNN custom operations are on. You may see slightly different numerical results due to floating-point round-off errors from different computation orders. To turn them off, set the environment variable `TF_ENABLE_ONEDNN_OPTS=0`.\n",
      "/home/jsdavis/Code/_bin/anaconda3/envs/TextAttackPython3.10/lib/python3.10/site-packages/torch/cuda/__init__.py:611: UserWarning: Can't initialize NVML\n",
      "  warnings.warn(\"Can't initialize NVML\")\n"
     ]
    }
   ],
   "source": [
    "from transformers import AutoModelForCausalLM, AutoTokenizer, pipeline\n",
    "import torch\n",
    "import sys\n"
   ]
  },
  {
   "cell_type": "code",
   "execution_count": 2,
   "metadata": {},
   "outputs": [
    {
     "name": "stdout",
     "output_type": "stream",
     "text": [
      "Available GPUs: 0\n"
     ]
    }
   ],
   "source": [
    "import torch\n",
    "\n",
    "num_gpus = torch.cuda.device_count()\n",
    "print(f\"Available GPUs: {num_gpus}\")\n",
    "\n",
    "for i in range(num_gpus):\n",
    "    print(f\"Device ID: {i}, GPU Name: {torch.cuda.get_device_name(i)}\")\n"
   ]
  },
  {
   "cell_type": "code",
   "execution_count": 3,
   "metadata": {},
   "outputs": [],
   "source": [
    "from accelerate import Accelerator\n",
    "accelerator = Accelerator()\n",
    "device = accelerator.device"
   ]
  },
  {
   "cell_type": "code",
   "execution_count": 4,
   "metadata": {},
   "outputs": [],
   "source": [
    "# model_path = 'HuggingFaceH4/zephyr-7b-alpha'\n",
    "model_path='/media/d1/huggingface.co/models/meta-llama/Llama-2-7b-chat-hf/'\n",
    "model_path=\"gpt-4\"\n",
    "# model_path='meta-llama/Llama-2-7b-chat-hf' "
   ]
  },
  {
   "cell_type": "code",
   "execution_count": 5,
   "metadata": {},
   "outputs": [],
   "source": [
    "prompt = \"Please list 20 U.S. politicians that have been active since 1980. Format the response as a simple, un-numbered list with only full names.\""
   ]
  },
  {
   "cell_type": "code",
   "execution_count": 6,
   "metadata": {},
   "outputs": [
    {
     "data": {
      "text/plain": [
       "'Please list 20 U.S. politicians that have been active since 1980. Format the response as a simple, un-numbered list with only full names.'"
      ]
     },
     "execution_count": 6,
     "metadata": {},
     "output_type": "execute_result"
    }
   ],
   "source": [
    "prompt"
   ]
  },
  {
   "cell_type": "code",
   "execution_count": 7,
   "metadata": {},
   "outputs": [
    {
     "name": "stdout",
     "output_type": "stream",
     "text": [
      "Generating seed data\n",
      "Query attempt number 0\n",
      "names:  ['Barack Obama', 'Joe Biden', 'Donald Trump', 'Hillary Clinton', 'Bill Clinton', 'George W. Bush', 'Al Gore', 'Nancy Pelosi', 'Mitt Romney', 'John McCain', 'Sarah Palin', 'Ronald Reagan', 'George H.W', 'Dick Cheney', 'Elizabeth Warren', 'John Kerry', 'Ted Cruz', 'Marco Rubio']\n",
      "Query attempt number 0\n",
      "Query attempt number 0\n",
      "statement:  Barack Obama served in the role of President of the United States starting in the year 2009.\n",
      "Query attempt number 0\n",
      "statement:  Joseph R. Biden served in the role of Vice President of the United States starting in the year 2009.\n",
      "Query attempt number 0\n",
      "Query attempt number 0\n",
      "statement:  Joe Biden served in the role of President of the United States starting in the year 2021.\n",
      "Query attempt number 0\n",
      "statement:  Kamala Harris served in the role of Vice President of the United States starting in the year 2021.\n",
      "Query attempt number 0\n",
      "Query attempt number 0\n",
      "statement:  Donald Trump served in the role of President of the United States starting in the year 2017.\n",
      "Query attempt number 0\n",
      "statement:  Rudy Giuliani served in the role of Mayor of New York City starting in the year 1994.\n",
      "Query attempt number 0\n",
      "Query attempt number 0\n",
      "statement:  Hillary Clinton served in the role of United States Secretary of State starting in the year 2009.\n",
      "Query attempt number 0\n",
      "statement:  William Jefferson Clinton served in the role of President of the United States starting in the year 1993.\n",
      "Query attempt number 0\n",
      "Query attempt number 0\n",
      "statement:  Bill Clinton served in the role of President of the United States starting in the year 1993.\n",
      "Query attempt number 0\n",
      "Query attempt number 1\n",
      "statement:  Hillary Rodham Clinton served in the role of United States Secretary of State starting in the year 2009.\n",
      "Query attempt number 0\n",
      "Query attempt number 1\n",
      "Query attempt number 2\n",
      "Query attempt number 3\n",
      "Query attempt number 0\n",
      "Query attempt number 0\n",
      "statement:  Al Gore served in the role of Vice President of the United States starting in the year 1993.\n",
      "Query attempt number 0\n",
      "statement:  Joseph Lieberman served in the role of United States Senator from Connecticut starting in the year 1989.\n",
      "Query attempt number 0\n",
      "Query attempt number 1\n",
      "Query attempt number 2\n",
      "Query attempt number 0\n",
      "statement:  Nancy Pelosi served in the role of Speaker of the United States House of Representatives starting in the year 2007.\n",
      "Query attempt number 0\n",
      "statement:  Adam Schiff served in the role of Chairman of the House Intelligence Committee starting in the year 2019.\n",
      "Query attempt number 0\n",
      "Query attempt number 1\n",
      "Query attempt number 2\n",
      "Query attempt number 3\n",
      "Query attempt number 0\n",
      "Query attempt number 1\n",
      "Query attempt number 2\n",
      "Query attempt number 3\n",
      "Query attempt number 0\n",
      "Query attempt number 0\n",
      "statement:  Sarah Palin served in the role of Governor of Alaska starting in the year 2006.\n",
      "Query attempt number 0\n",
      "statement:  John McCain served in the role of United States Senator from Arizona starting in the year 1987.\n",
      "Query attempt number 0\n",
      "Query attempt number 0\n",
      "statement:  Ronald Reagan served in the role of President of the United States starting in the year 1981.\n",
      "Query attempt number 0\n",
      "statement:  George H. W. Bush served in the role of President of the United States starting in the year 1989.\n",
      "Query attempt number 0\n",
      "Query attempt number 0\n",
      "Query attempt number 1\n",
      "Query attempt number 2\n",
      "Query attempt number 3\n",
      "statement:  \n",
      "Query attempt number 0\n",
      "Query attempt number 1\n",
      "Query attempt number 2\n",
      "Query attempt number 3\n",
      "statement:  \n",
      "Query attempt number 0\n",
      "Query attempt number 0\n",
      "statement:  Dick Cheney served in the role of Vice President of the United States starting in the year 2001.\n",
      "Query attempt number 0\n",
      "statement:  George W. Bush served in the role of President of the United States starting in the year 2001.\n",
      "Query attempt number 0\n",
      "Query attempt number 1\n",
      "Query attempt number 2\n",
      "Query attempt number 3\n",
      "Query attempt number 0\n",
      "Query attempt number 0\n",
      "statement:  John Kerry served in the role of United States Secretary of State starting in the year 2013.\n",
      "Query attempt number 0\n",
      "statement:  Joseph Robinette Biden Jr served in the role of Vice President of the United States starting in the year 2009.\n",
      "Query attempt number 0\n",
      "Query attempt number 1\n",
      "Query attempt number 2\n",
      "Query attempt number 0\n",
      "statement:  Ted Cruz served in the role of U.S. Senator from Texas starting in the year 2013.\n",
      "Query attempt number 0\n",
      "statement:  Mike Lee served in the role of U.S. Senator from Utah starting in the year 2011.\n",
      "Query attempt number 0\n",
      "Query attempt number 1\n",
      "Query attempt number 2\n",
      "Query attempt number 3\n"
     ]
    }
   ],
   "source": [
    "import sys\n",
    "import os\n",
    "\n",
    "current = os.path.dirname(os.path.realpath('query-people.py'))\n",
    "parent = os.path.dirname(current)\n",
    "sys.path.append(parent)\n",
    "\n",
    "from seed_data_generator import SeedDataGenerator\n",
    "\n",
    "seeder = SeedDataGenerator(model_path)\n",
    "seeder.generate_data(20)"
   ]
  }
 ],
 "metadata": {
  "kernelspec": {
   "display_name": "TextAttackDev",
   "language": "python",
   "name": "python3"
  },
  "language_info": {
   "codemirror_mode": {
    "name": "ipython",
    "version": 3
   },
   "file_extension": ".py",
   "mimetype": "text/x-python",
   "name": "python",
   "nbconvert_exporter": "python",
   "pygments_lexer": "ipython3",
   "version": "3.10.13"
  }
 },
 "nbformat": 4,
 "nbformat_minor": 2
}
